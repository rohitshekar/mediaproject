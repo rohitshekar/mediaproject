{
  "cells": [
    {
      "cell_type": "markdown",
      "metadata": {
        "id": "view-in-github",
        "colab_type": "text"
      },
      "source": [
        "<a href=\"https://colab.research.google.com/github/rohitshekar/mediaproject/blob/main/GenderAge.ipynb\" target=\"_parent\"><img src=\"https://colab.research.google.com/assets/colab-badge.svg\" alt=\"Open In Colab\"/></a>"
      ]
    },
    {
      "cell_type": "code",
      "execution_count": null,
      "metadata": {
        "colab": {
          "base_uri": "https://localhost:8080/"
        },
        "id": "dl1_LMYm8ErO",
        "outputId": "2f5f70db-4f2e-444a-f81c-79de5bdacf3f"
      },
      "outputs": [
        {
          "output_type": "stream",
          "name": "stdout",
          "text": [
            "Mounted at /content/drive\n"
          ]
        }
      ],
      "source": [
        "from google.colab import drive\n",
        "drive.mount('/content/drive')"
      ]
    },
    {
      "cell_type": "code",
      "execution_count": null,
      "metadata": {
        "id": "MPSnaFNh8H3n"
      },
      "outputs": [],
      "source": [
        "import os\n",
        "os.environ['KAGGLE_CONFIG_DIR'] = \"/content/drive/MyDrive/Kaggle\""
      ]
    },
    {
      "cell_type": "code",
      "execution_count": null,
      "metadata": {
        "id": "H9fPeQYG8KCy"
      },
      "outputs": [],
      "source": [
        "%mkdir ~/.kaggle"
      ]
    },
    {
      "cell_type": "code",
      "execution_count": null,
      "metadata": {
        "id": "9FYCAiYz8Xoi"
      },
      "outputs": [],
      "source": [
        "!cp /content/drive/MyDrive/kaggle/kaggle.json ~/.kaggle/kaggle.json"
      ]
    },
    {
      "cell_type": "code",
      "execution_count": null,
      "metadata": {
        "id": "OoEePfi88eVm"
      },
      "outputs": [],
      "source": [
        "! chmod 600 ~/.kaggle/kaggle.json"
      ]
    },
    {
      "cell_type": "code",
      "execution_count": null,
      "metadata": {
        "colab": {
          "base_uri": "https://localhost:8080/"
        },
        "id": "Ka20ya2r8hyT",
        "outputId": "400cbc64-95ce-44d7-cc47-91e426becd7d"
      },
      "outputs": [
        {
          "output_type": "stream",
          "name": "stdout",
          "text": [
            "/content\n"
          ]
        }
      ],
      "source": [
        "%cd /content/"
      ]
    },
    {
      "cell_type": "code",
      "execution_count": null,
      "metadata": {
        "colab": {
          "base_uri": "https://localhost:8080/"
        },
        "id": "XG3pmie58kTN",
        "outputId": "aed78d45-3053-44ae-b17d-198727faa69c"
      },
      "outputs": [
        {
          "output_type": "stream",
          "name": "stdout",
          "text": [
            "/content/images\n"
          ]
        }
      ],
      "source": [
        "%mkdir images\n",
        "%cd images"
      ]
    },
    {
      "cell_type": "code",
      "execution_count": null,
      "metadata": {
        "colab": {
          "base_uri": "https://localhost:8080/"
        },
        "id": "bmXtRgG2EdR8",
        "outputId": "6c30ee4d-7018-44e7-f551-f778a0a4ab0e"
      },
      "outputs": [
        {
          "output_type": "stream",
          "name": "stdout",
          "text": [
            "[Errno 2] No such file or directory: 'images'\n",
            "/content/images\n"
          ]
        }
      ],
      "source": [
        "%cd images"
      ]
    },
    {
      "cell_type": "code",
      "execution_count": null,
      "metadata": {
        "colab": {
          "base_uri": "https://localhost:8080/"
        },
        "id": "TDiOy9y__XvP",
        "outputId": "443a9a31-3629-4759-907a-e9fd93bdad9b"
      },
      "outputs": [
        {
          "output_type": "stream",
          "name": "stdout",
          "text": [
            "Downloading utkface-new.zip to /content/images\n",
            "100% 330M/331M [00:17<00:00, 23.9MB/s]\n",
            "100% 331M/331M [00:17<00:00, 19.7MB/s]\n"
          ]
        }
      ],
      "source": [
        "!kaggle datasets download -d jangedoo/utkface-new"
      ]
    },
    {
      "cell_type": "code",
      "execution_count": null,
      "metadata": {
        "id": "PMVo6EEE_x6W"
      },
      "outputs": [],
      "source": [
        "!unzip /content/images/utkface-new.zip"
      ]
    },
    {
      "cell_type": "code",
      "execution_count": null,
      "metadata": {
        "id": "0uyLOAnn701H",
        "colab": {
          "base_uri": "https://localhost:8080/"
        },
        "outputId": "7ad05748-db00-481c-c3c1-43594e21ad11"
      },
      "outputs": [
        {
          "output_type": "stream",
          "name": "stdout",
          "text": [
            "['crop_part1', 'UTKFace']\n"
          ]
        }
      ],
      "source": [
        "import os\n",
        "a=os.listdir('/content/images/utkface_aligned_cropped')[:5]\n",
        "print(a)"
      ]
    },
    {
      "cell_type": "code",
      "execution_count": null,
      "metadata": {
        "id": "5reyPRSFwlep"
      },
      "outputs": [],
      "source": [
        "import numpy as np\n",
        "from tqdm.notebook import tqdm\n",
        "import pandas as pd\n",
        "import os"
      ]
    },
    {
      "cell_type": "code",
      "execution_count": null,
      "metadata": {
        "id": "QLAKL0pB81gx"
      },
      "outputs": [],
      "source": [
        "base_dir='/content/images/UTKFace'"
      ]
    },
    {
      "cell_type": "code",
      "execution_count": null,
      "metadata": {
        "id": "tWvSNpK87mxP"
      },
      "outputs": [],
      "source": [
        "base_dir='/content/images/utkface_aligned_cropped/UTKFace'"
      ]
    },
    {
      "cell_type": "code",
      "execution_count": null,
      "metadata": {
        "id": "5IN1RYJj8lGG"
      },
      "outputs": [],
      "source": [
        "files=os.listdir(base_dir)"
      ]
    },
    {
      "cell_type": "code",
      "source": [
        "len(files)"
      ],
      "metadata": {
        "colab": {
          "base_uri": "https://localhost:8080/"
        },
        "id": "wdYuMI-V2jLm",
        "outputId": "e7c435f6-0283-477c-b266-f0eaeed7747b"
      },
      "execution_count": null,
      "outputs": [
        {
          "output_type": "execute_result",
          "data": {
            "text/plain": [
              "23708"
            ]
          },
          "metadata": {},
          "execution_count": 17
        }
      ]
    },
    {
      "cell_type": "code",
      "execution_count": null,
      "metadata": {
        "colab": {
          "base_uri": "https://localhost:8080/"
        },
        "id": "A489TZtW9I4K",
        "outputId": "7de659c2-2b32-447c-f98d-7c2041f8fcf5"
      },
      "outputs": [
        {
          "output_type": "execute_result",
          "data": {
            "text/plain": [
              "['68', '0', '0', '20170119212026025.jpg.chip.jpg']"
            ]
          },
          "metadata": {},
          "execution_count": 20
        }
      ],
      "source": [
        "files[0].split('_')"
      ]
    },
    {
      "cell_type": "code",
      "source": [
        "%cd /content"
      ],
      "metadata": {
        "id": "hsuM5hBEAyHJ",
        "colab": {
          "base_uri": "https://localhost:8080/"
        },
        "outputId": "f4d1ca07-9c8b-4e17-a668-56a24f9d4772"
      },
      "execution_count": null,
      "outputs": [
        {
          "output_type": "stream",
          "name": "stdout",
          "text": [
            "/content\n"
          ]
        }
      ]
    },
    {
      "cell_type": "code",
      "execution_count": null,
      "metadata": {
        "colab": {
          "base_uri": "https://localhost:8080/",
          "height": 49,
          "referenced_widgets": [
            "cf3b8d3e8f1c445da150584d0555d1f3",
            "c705812f66a24dd58ff0a6e3743e868b",
            "c2d54664e0ef4eaa80b088e697d46e33",
            "1691df959fcc4475a9b0d877abce661b",
            "0d658391b25843379d3d16375beb8b8a",
            "bb99a611944e4ad48edabf57a5fc7043",
            "4991378dc02a42e8be64b4ba6d74919d",
            "7b635afba18c4ebaa63c3c42bd5f054f",
            "0a718f63eb6b4df7ac0094f19a93efb1",
            "9be9584dc06c4213b6ac86c1f0fc3647",
            "e48944145ae74ea884f0b9547407ec8a"
          ]
        },
        "id": "PWxRvUiJwsO8",
        "outputId": "33492199-2e09-4597-b61d-7b5feb60a9e9"
      },
      "outputs": [
        {
          "output_type": "display_data",
          "data": {
            "text/plain": [
              "  0%|          | 0/23708 [00:00<?, ?it/s]"
            ],
            "application/vnd.jupyter.widget-view+json": {
              "version_major": 2,
              "version_minor": 0,
              "model_id": "cf3b8d3e8f1c445da150584d0555d1f3"
            }
          },
          "metadata": {}
        }
      ],
      "source": [
        "image_paths=[]\n",
        "gender=[]\n",
        "age=[]\n",
        "ethincity=[]\n",
        "for i in tqdm(files):\n",
        "  img_path=os.path.join(base_dir,i)\n",
        "  temp=i.split('_')\n",
        "  if len(temp)==4:\n",
        "   image_paths.append(img_path)\n",
        "   age.append(temp[0])\n",
        "   gender.append(temp[1])\n",
        "   ethincity.append(temp[2])\n"
      ]
    },
    {
      "cell_type": "code",
      "source": [
        "for i in tqdm(files):\n",
        "  img_path=os.path.join(base_dir,i)\n",
        "  temp=i.split('_')\n",
        "  if len(temp)==4:\n",
        "   image_paths.append(img_path)\n",
        "   age.append(temp[0])\n",
        "   gender.append(temp[1])\n",
        "   ethincity.append(temp[2])"
      ],
      "metadata": {
        "colab": {
          "base_uri": "https://localhost:8080/",
          "height": 49,
          "referenced_widgets": [
            "8b66b091dd4049c78ee3954189fc4b32",
            "cdc9db7c86bb40fbb37d82b8b0fbe600",
            "85572a457b6840ed8ad5953b693056c4",
            "2e2b5e2677e54148a0ca77ca376e8245",
            "473c83d2a51a4637884f19e66c019fef",
            "ef8c3b32327247cfa00bec0775a963c3",
            "73b335d34ca7415f85245bd46524ed14",
            "53ebd23da6c44bfa868ed7dd33bdf109",
            "851a1a495501436db36dff8b1add4971",
            "709973c3d76041e6ba91e297737d0012",
            "76c33533722f4c049cf53d61b589e12f"
          ]
        },
        "id": "NITzTj4XrBiP",
        "outputId": "34833b5a-fd07-4090-ae70-98f883dea17f"
      },
      "execution_count": null,
      "outputs": [
        {
          "output_type": "display_data",
          "data": {
            "text/plain": [
              "  0%|          | 0/23708 [00:00<?, ?it/s]"
            ],
            "application/vnd.jupyter.widget-view+json": {
              "version_major": 2,
              "version_minor": 0,
              "model_id": "8b66b091dd4049c78ee3954189fc4b32"
            }
          },
          "metadata": {}
        }
      ]
    },
    {
      "cell_type": "code",
      "execution_count": null,
      "metadata": {
        "colab": {
          "base_uri": "https://localhost:8080/"
        },
        "id": "d4uhGl-i91Op",
        "outputId": "db368fa6-608e-432c-94b4-7400419a0f0d"
      },
      "outputs": [
        {
          "output_type": "stream",
          "name": "stdout",
          "text": [
            "{'4', '0', '1', '2', '3'}\n"
          ]
        }
      ],
      "source": [
        "print(set(ethincity))"
      ]
    },
    {
      "cell_type": "code",
      "execution_count": null,
      "metadata": {
        "id": "zwzWFmqAxRAs"
      },
      "outputs": [],
      "source": [
        "import tensorflow as tf"
      ]
    },
    {
      "cell_type": "code",
      "execution_count": null,
      "metadata": {
        "id": "twW1pDEp-FOd"
      },
      "outputs": [],
      "source": [
        "a=pd.DataFrame()"
      ]
    },
    {
      "cell_type": "code",
      "execution_count": null,
      "metadata": {
        "id": "mmGu_45z-KaE"
      },
      "outputs": [],
      "source": [
        "a['img_path'],a['gender'],a['age'],a['ethincity']=image_paths,gender,age,ethincity"
      ]
    },
    {
      "cell_type": "code",
      "execution_count": null,
      "metadata": {
        "id": "ptTMLhgT-WYT"
      },
      "outputs": [],
      "source": [
        "set(age)"
      ]
    },
    {
      "cell_type": "code",
      "execution_count": null,
      "metadata": {
        "id": "TKuTENul_T-_"
      },
      "outputs": [],
      "source": [
        "import tensorflow as tf\n",
        "from tensorflow.keras.preprocessing.image import load_img,img_to_array\n",
        "import cv2"
      ]
    },
    {
      "cell_type": "code",
      "execution_count": null,
      "metadata": {
        "id": "rDxSFe2v_leU"
      },
      "outputs": [],
      "source": [
        "def extract(images):\n",
        "  features=[]\n",
        "  for i in tqdm(images):\n",
        "    img=cv2.imread(i)\n",
        "    img=cv2.cvtColor(img,cv2.COLOR_BGR2RGB)\n",
        "    img=cv2.resize(img,(64,64))\n",
        "    harrcas=cv2.CascadeClassifier('facedetect.xml')\n",
        "    rect=harrcas.detectMultiScale(img,scaleFactor=1.2,minNeighbors=2)\n",
        "    for x,y,w,h in rect:\n",
        "       img=img[y:y+h,x:x+w]\n",
        "       img=img[y:y+h,x:x+w]\n",
        "       img = np.array(img)\n",
        "       img=img/225.0\n",
        "       features.append(img)\n",
        "  features = np.array(features)\n",
        "  return features"
      ]
    },
    {
      "cell_type": "code",
      "execution_count": null,
      "metadata": {
        "id": "aM6OLwIBAih7",
        "colab": {
          "base_uri": "https://localhost:8080/",
          "height": 104,
          "referenced_widgets": [
            "369c195d145e4158a93841451f5ccb52",
            "686af8cd34d24f78901c06937c1327bc",
            "92ef06594d114e258a73aec830eed91b",
            "08dceb8230f94974b7beceac73b6ae9f",
            "01ea92a98f8d432680c91612cf2bd033",
            "5f3b0bf77e524170af8a5a3b8e57eb93",
            "9f93ddb175c84ddcaba499e3a10f8593",
            "ccc85b5f50bf4e39b40386e8203fb4fd",
            "06d08f1f8a234e65b586ef6d4d2dbff0",
            "1ea81590594b405ea69cbb5aef160438",
            "12da6fcc024244e4a42d24b7134a6683"
          ]
        },
        "outputId": "e5a59368-0e3b-450f-e8d4-f7c46f2574f5"
      },
      "outputs": [
        {
          "output_type": "display_data",
          "data": {
            "text/plain": [
              "  0%|          | 0/47410 [00:00<?, ?it/s]"
            ],
            "application/vnd.jupyter.widget-view+json": {
              "version_major": 2,
              "version_minor": 0,
              "model_id": "369c195d145e4158a93841451f5ccb52"
            }
          },
          "metadata": {}
        },
        {
          "output_type": "stream",
          "name": "stderr",
          "text": [
            "<ipython-input-79-88e3c4ccfd0a>:15: VisibleDeprecationWarning: Creating an ndarray from ragged nested sequences (which is a list-or-tuple of lists-or-tuples-or ndarrays with different lengths or shapes) is deprecated. If you meant to do this, you must specify 'dtype=object' when creating the ndarray.\n",
            "  features = np.array(features)\n"
          ]
        }
      ],
      "source": [
        "from PIL import Image\n",
        "features=extract(a['img_path'])"
      ]
    },
    {
      "cell_type": "code",
      "execution_count": null,
      "metadata": {
        "id": "saBTp8S0B9-l"
      },
      "outputs": [],
      "source": [
        "features=np.array(features)\n",
        "features=features.reshape(len(features),64,64,3)"
      ]
    },
    {
      "cell_type": "code",
      "execution_count": null,
      "metadata": {
        "id": "H-2ZxqT9CS_e"
      },
      "outputs": [],
      "source": [
        "y_gender=np.array(a['gender'])\n",
        "y_age=np.array(a['age'])\n",
        "y_ethincity=np.array(a['ethincity'])\n"
      ]
    },
    {
      "cell_type": "code",
      "execution_count": null,
      "metadata": {
        "id": "-4T0VnMd_5J5"
      },
      "outputs": [],
      "source": [
        "import tensorflow as tf\n",
        "from tensorflow.keras.models import Sequential, Model\n",
        "from tensorflow.keras.layers import Dense, Conv2D, Dropout, Flatten, MaxPooling2D, Input"
      ]
    },
    {
      "cell_type": "code",
      "execution_count": null,
      "metadata": {
        "id": "Ww81v6LA-51P"
      },
      "outputs": [],
      "source": [
        "inputs = Input((64,64,3))\n",
        "# convolutional layers\n",
        "conv_1 = Conv2D(32, kernel_size=(3, 3), activation='relu') (inputs)\n",
        "maxp_1 = MaxPooling2D(pool_size=(2, 2)) (conv_1)\n",
        "conv_2 = Conv2D(64, kernel_size=(3, 3), activation='relu') (maxp_1)\n",
        "maxp_2 = MaxPooling2D(pool_size=(2, 2)) (conv_2)\n",
        "conv_3 = Conv2D(128, kernel_size=(3, 3), activation='relu') (maxp_2)\n",
        "maxp_3 = MaxPooling2D(pool_size=(2, 2)) (conv_3)\n",
        "conv_4 = Conv2D(256, kernel_size=(3, 3), activation='relu') (maxp_3)\n",
        "maxp_4 = MaxPooling2D(pool_size=(2, 2)) (conv_4)\n",
        "\n",
        "\n",
        "flatten = Flatten() (maxp_4)\n",
        "dropout_1 = Dropout(0.2) (flatten)\n",
        "dropout_2 = Dropout(0.2) (flatten)\n",
        "dropout_3 = Dropout(0.2) (flatten)\n",
        "\n",
        "\n",
        "# fully connected layers\n",
        "dense_1 = Dense(256, activation='relu') (dropout_1)\n",
        "dense_2 = Dense(256, activation='relu') (dropout_2)\n",
        "dense_3 = Dense(256, activation='relu') (dropout_3)\n",
        "\n",
        "dropout_4 = Dropout(0.2) (dense_1)\n",
        "dropout_5 = Dropout(0.2) (dense_2)\n",
        "dropout_6 = Dropout(0.2) (dense_3)\n",
        "\n",
        "\n",
        "output_1 = Dense(1, activation='sigmoid', name='gender_out') (dropout_4)\n",
        "output_2 = Dense(4, activation='softmax', name='age_out') (dropout_5)\n",
        "output_3 = Dense(5, activation='softmax', name='et_out') (dropout_6)\n",
        "\n",
        "\n",
        "model = Model(inputs=[inputs], outputs=[output_1,output_2,output_3])\n",
        "\n",
        "model.compile(loss= ['binary_crossentropy','categorical_crossentropy','categorical_crossentropy'], optimizer='adam', metrics=['accuracy'])"
      ]
    },
    {
      "cell_type": "code",
      "execution_count": null,
      "metadata": {
        "id": "uI3Ugvib_KCc"
      },
      "outputs": [],
      "source": [
        "history = model.fit(x=features, y=[y_gender,y_age,y_ethincity], batch_size=32, epochs=100, validation_split=0.2)"
      ]
    },
    {
      "cell_type": "code",
      "source": [
        "model.save('/content/drive/MyDrive/ageet3.h5',save_format=\"h5\")"
      ],
      "metadata": {
        "id": "qdHEjIjxNhWz"
      },
      "execution_count": null,
      "outputs": []
    },
    {
      "cell_type": "code",
      "source": [
        "model=tf.keras.saving.load_model('/content/ageet3.h5')"
      ],
      "metadata": {
        "id": "adckVG80ALbk"
      },
      "execution_count": null,
      "outputs": []
    },
    {
      "cell_type": "code",
      "source": [],
      "metadata": {
        "id": "GKqWmpXkEyrc"
      },
      "execution_count": null,
      "outputs": []
    },
    {
      "cell_type": "code",
      "source": [
        "import cv2\n",
        "img=cv2.imread('/content/IMG_20210623_214150_4.jpg')\n",
        "img=cv2.cvtColor(img,cv2.COLOR_BGR2RGB)\n",
        "harrcas=cv2.CascadeClassifier('/content/facedetect.xml')\n",
        "rect=harrcas.detectMultiScale(img,scaleFactor=1.2,minNeighbors=2)\n",
        "for x,y,w,h in rect:\n",
        "   img=img[y:y+h,x:x+w]\n",
        "img =cv2.resize(img,(64,64))\n",
        "img=np.array(img)\n",
        "img=img/225.0\n",
        "img=np.expand_dims(img,axis=0)\n",
        "res=model.predict(img)\n",
        "result=res[0][0]\n",
        "print(result,np.argmax(res[1][0]),np.argmax(res[2][0]))\n"
      ],
      "metadata": {
        "colab": {
          "base_uri": "https://localhost:8080/"
        },
        "id": "vAOrYWS0zhZp",
        "outputId": "5a516b21-a4bd-4c8a-c53c-6b232b5ca302"
      },
      "execution_count": null,
      "outputs": [
        {
          "output_type": "stream",
          "name": "stdout",
          "text": [
            "1/1 [==============================] - 0s 59ms/step\n",
            "[0.03201] 0 4\n"
          ]
        }
      ]
    },
    {
      "cell_type": "code",
      "source": [],
      "metadata": {
        "id": "DidKOfjvDcCg"
      },
      "execution_count": null,
      "outputs": []
    },
    {
      "cell_type": "code",
      "source": [
        "import numpy as np"
      ],
      "metadata": {
        "id": "7pmm2wKAAuhD"
      },
      "execution_count": null,
      "outputs": []
    },
    {
      "cell_type": "code",
      "source": [
        "import matplotlib.pyplot as plt\n",
        "a=cv2.imread('/content/IMG_20210623_214150_4.jpg')\n",
        "plt.imshow(a)\n",
        "plt.show()"
      ],
      "metadata": {
        "id": "NMsPywPn9CW_"
      },
      "execution_count": null,
      "outputs": []
    },
    {
      "cell_type": "code",
      "execution_count": null,
      "metadata": {
        "id": "V5lLwKqX_KIt"
      },
      "outputs": [],
      "source": [
        "y_age=[int(x) for x in y_age]\n",
        "\n",
        "\n"
      ]
    },
    {
      "cell_type": "code",
      "source": [
        "y_gender=[int(x) for x in y_gender]"
      ],
      "metadata": {
        "id": "QS2BOGSGjjHf"
      },
      "execution_count": null,
      "outputs": []
    },
    {
      "cell_type": "code",
      "source": [
        "y_gender=np.array(y_gender)\n",
        "y_age=np.array(y_age)\n",
        "y_ethincity=np.array(y_ethincity)"
      ],
      "metadata": {
        "id": "CgFu3VrchJfz"
      },
      "execution_count": null,
      "outputs": []
    },
    {
      "cell_type": "code",
      "execution_count": null,
      "metadata": {
        "id": "oiYVBzgQ6Pl3"
      },
      "outputs": [],
      "source": [
        "for i in range(len(y_age)):\n",
        "  if y_age[i]>=0 and y_age[i]<25:\n",
        "    y_age[i]=0\n",
        "  elif y_age[i]>=25 and y_age[i]<40:\n",
        "    y_age[i]=1\n",
        "  elif y_age[i]>=40and y_age[i]<=60:\n",
        "    y_age[i]=2\n",
        "  else:\n",
        "    y_age[i]=3\n"
      ]
    },
    {
      "cell_type": "code",
      "source": [
        "y_age=[str(x) for x in y_age]\n"
      ],
      "metadata": {
        "id": "FvyMAvc5scF3"
      },
      "execution_count": null,
      "outputs": []
    },
    {
      "cell_type": "code",
      "source": [
        "y_age[0]"
      ],
      "metadata": {
        "colab": {
          "base_uri": "https://localhost:8080/"
        },
        "id": "iDLxzLVQi3vK",
        "outputId": "ecfd9db9-1069-46fa-c794-0ac45ad8c9ad"
      },
      "execution_count": null,
      "outputs": [
        {
          "output_type": "execute_result",
          "data": {
            "text/plain": [
              "array([0., 0., 0., 1.], dtype=float32)"
            ]
          },
          "metadata": {},
          "execution_count": 92
        }
      ]
    },
    {
      "cell_type": "code",
      "source": [
        "from tensorflow.keras.utils import to_categorical\n",
        "y_age=to_categorical(y_age)\n"
      ],
      "metadata": {
        "id": "Rf34hz1AxGcl"
      },
      "execution_count": null,
      "outputs": []
    },
    {
      "cell_type": "code",
      "source": [
        "y_ethincity=[int(x) for x in y_ethincity]\n"
      ],
      "metadata": {
        "id": "SB-rVrJUIata"
      },
      "execution_count": null,
      "outputs": []
    },
    {
      "cell_type": "code",
      "source": [
        "y_ethincity=to_categorical(y_ethincity)"
      ],
      "metadata": {
        "id": "UF60SfVAxtQV"
      },
      "execution_count": null,
      "outputs": []
    },
    {
      "cell_type": "code",
      "source": [
        "y_gender"
      ],
      "metadata": {
        "id": "R0_iiHS2xyx4"
      },
      "execution_count": null,
      "outputs": []
    },
    {
      "cell_type": "code",
      "execution_count": null,
      "metadata": {
        "id": "V6GqIGMIAOzR"
      },
      "outputs": [],
      "source": [
        "from sklearn.preprocessing import LabelEncoder\n",
        "from tensorflow.keras import utils\n",
        "encoder_age = LabelEncoder()\n",
        "encoder_age.fit(y_age)\n",
        "encoded_Y = encoder_age.transform(y_age)\n",
        "# convert integers to dummy variables (i.e. one hot encoded)\n",
        "dummy_yage = utils.to_categorical(encoded_Y)"
      ]
    },
    {
      "cell_type": "code",
      "source": [
        "from sklearn.preprocessing import LabelEncoder\n",
        "from tensorflow.keras import utils\n",
        "encoder_eth = LabelEncoder()\n",
        "encoder_eth.fit(y_ethincity)\n",
        "encoded_Y = encoder_eth.transform(y_ethincity)\n",
        "# convert integers to dummy variables (i.e. one hot encoded)\n",
        "dummy_yet = utils.to_categorical(encoded_Y)"
      ],
      "metadata": {
        "id": "RNydHcRfJIIq"
      },
      "execution_count": null,
      "outputs": []
    },
    {
      "cell_type": "code",
      "source": [
        "dummy_yet[0]"
      ],
      "metadata": {
        "colab": {
          "base_uri": "https://localhost:8080/"
        },
        "id": "BMvKeRuQJCQp",
        "outputId": "43b146d4-83c8-42cf-da1e-41429a7572e2"
      },
      "execution_count": null,
      "outputs": [
        {
          "output_type": "execute_result",
          "data": {
            "text/plain": [
              "array([0., 0., 0., 1.], dtype=float32)"
            ]
          },
          "metadata": {},
          "execution_count": 63
        }
      ]
    },
    {
      "cell_type": "code",
      "execution_count": null,
      "metadata": {
        "colab": {
          "base_uri": "https://localhost:8080/"
        },
        "id": "9P_GYwUGICAd",
        "outputId": "9ad83b4d-17aa-4831-e479-d8ddae601283"
      },
      "outputs": [
        {
          "output_type": "stream",
          "name": "stdout",
          "text": [
            "1/1 [==============================] - 0s 20ms/step\n",
            "0\n",
            "50+ White\n"
          ]
        }
      ],
      "source": [
        "import numpy as np\n",
        "from keras.preprocessing import image\n",
        "test_image = tf.keras.utils.load_img('/content/images/UTKFace/53_0_0_20170120223133507.jpg.chip.jpg', target_size = (64,64))\n",
        "test_image = tf.keras.utils.img_to_array(test_image)\n",
        "test_image = np.expand_dims(test_image, axis = 0)\n",
        "result = model.predict(test_image)\n",
        "print(result_age(result),result_et(result))"
      ]
    },
    {
      "cell_type": "code",
      "source": [
        "def result_age(result):\n",
        " dic={\n",
        "    0:'0-18',\n",
        "    1:'18-30',\n",
        "    2:'30-50',\n",
        "    3:'50+'\n",
        " }\n",
        " c=np.array(result[0][0])\n",
        " lar=np.max(c)\n",
        " inx=np.where(c==lar)\n",
        " return dic[inx[0][0]]"
      ],
      "metadata": {
        "id": "sGFfVCbLwNjg"
      },
      "execution_count": null,
      "outputs": []
    },
    {
      "cell_type": "code",
      "source": [
        "result[1][0]"
      ],
      "metadata": {
        "id": "h4NCcDXw3MOZ"
      },
      "execution_count": null,
      "outputs": []
    },
    {
      "cell_type": "code",
      "source": [
        "def result_et(result):\n",
        " dic={\n",
        "    0:'White',\n",
        "    1: 'Black',\n",
        "    2: 'Asian',\n",
        "    3: 'Indian',\n",
        "    4:  'others',\n",
        " }\n",
        " c=np.array(result[1][0])\n",
        " lar=np.max(c)\n",
        " inx=np.where(c==lar)\n",
        " print(inx[0][0])\n",
        " return dic[inx[0][0]]"
      ],
      "metadata": {
        "id": "D0tVVUXc26im"
      },
      "execution_count": null,
      "outputs": []
    },
    {
      "cell_type": "code",
      "source": [
        "print(result_age(result),result_et(result))"
      ],
      "metadata": {
        "colab": {
          "base_uri": "https://localhost:8080/"
        },
        "id": "M4s5Y_OrzuYR",
        "outputId": "6ea14e6c-d74e-49fb-d530-6bab8a9f4c4d"
      },
      "execution_count": null,
      "outputs": [
        {
          "output_type": "stream",
          "name": "stdout",
          "text": [
            "3\n",
            "0-18 Indian\n"
          ]
        }
      ]
    },
    {
      "cell_type": "code",
      "execution_count": null,
      "metadata": {
        "colab": {
          "base_uri": "https://localhost:8080/"
        },
        "id": "aiDBXcTOIuhR",
        "outputId": "6248889e-ef67-44bd-bf19-491ae1b85663"
      },
      "outputs": [
        {
          "data": {
            "text/plain": [
              "{0, 1, 2, 3, 4}"
            ]
          },
          "execution_count": 64,
          "metadata": {},
          "output_type": "execute_result"
        }
      ],
      "source": [
        "set(y_ethincity)"
      ]
    }
  ],
  "metadata": {
    "accelerator": "GPU",
    "colab": {
      "provenance": [],
      "gpuType": "T4",
      "authorship_tag": "ABX9TyPT/5OGcCvyU0vUljkboFqE",
      "include_colab_link": true
    },
    "kernelspec": {
      "display_name": "Python 3",
      "name": "python3"
    },
    "language_info": {
      "name": "python"
    },
    "widgets": {
      "application/vnd.jupyter.widget-state+json": {
        "cf3b8d3e8f1c445da150584d0555d1f3": {
          "model_module": "@jupyter-widgets/controls",
          "model_name": "HBoxModel",
          "model_module_version": "1.5.0",
          "state": {
            "_dom_classes": [],
            "_model_module": "@jupyter-widgets/controls",
            "_model_module_version": "1.5.0",
            "_model_name": "HBoxModel",
            "_view_count": null,
            "_view_module": "@jupyter-widgets/controls",
            "_view_module_version": "1.5.0",
            "_view_name": "HBoxView",
            "box_style": "",
            "children": [
              "IPY_MODEL_c705812f66a24dd58ff0a6e3743e868b",
              "IPY_MODEL_c2d54664e0ef4eaa80b088e697d46e33",
              "IPY_MODEL_1691df959fcc4475a9b0d877abce661b"
            ],
            "layout": "IPY_MODEL_0d658391b25843379d3d16375beb8b8a"
          }
        },
        "c705812f66a24dd58ff0a6e3743e868b": {
          "model_module": "@jupyter-widgets/controls",
          "model_name": "HTMLModel",
          "model_module_version": "1.5.0",
          "state": {
            "_dom_classes": [],
            "_model_module": "@jupyter-widgets/controls",
            "_model_module_version": "1.5.0",
            "_model_name": "HTMLModel",
            "_view_count": null,
            "_view_module": "@jupyter-widgets/controls",
            "_view_module_version": "1.5.0",
            "_view_name": "HTMLView",
            "description": "",
            "description_tooltip": null,
            "layout": "IPY_MODEL_bb99a611944e4ad48edabf57a5fc7043",
            "placeholder": "​",
            "style": "IPY_MODEL_4991378dc02a42e8be64b4ba6d74919d",
            "value": "100%"
          }
        },
        "c2d54664e0ef4eaa80b088e697d46e33": {
          "model_module": "@jupyter-widgets/controls",
          "model_name": "FloatProgressModel",
          "model_module_version": "1.5.0",
          "state": {
            "_dom_classes": [],
            "_model_module": "@jupyter-widgets/controls",
            "_model_module_version": "1.5.0",
            "_model_name": "FloatProgressModel",
            "_view_count": null,
            "_view_module": "@jupyter-widgets/controls",
            "_view_module_version": "1.5.0",
            "_view_name": "ProgressView",
            "bar_style": "success",
            "description": "",
            "description_tooltip": null,
            "layout": "IPY_MODEL_7b635afba18c4ebaa63c3c42bd5f054f",
            "max": 23708,
            "min": 0,
            "orientation": "horizontal",
            "style": "IPY_MODEL_0a718f63eb6b4df7ac0094f19a93efb1",
            "value": 23708
          }
        },
        "1691df959fcc4475a9b0d877abce661b": {
          "model_module": "@jupyter-widgets/controls",
          "model_name": "HTMLModel",
          "model_module_version": "1.5.0",
          "state": {
            "_dom_classes": [],
            "_model_module": "@jupyter-widgets/controls",
            "_model_module_version": "1.5.0",
            "_model_name": "HTMLModel",
            "_view_count": null,
            "_view_module": "@jupyter-widgets/controls",
            "_view_module_version": "1.5.0",
            "_view_name": "HTMLView",
            "description": "",
            "description_tooltip": null,
            "layout": "IPY_MODEL_9be9584dc06c4213b6ac86c1f0fc3647",
            "placeholder": "​",
            "style": "IPY_MODEL_e48944145ae74ea884f0b9547407ec8a",
            "value": " 23708/23708 [00:00&lt;00:00, 307204.96it/s]"
          }
        },
        "0d658391b25843379d3d16375beb8b8a": {
          "model_module": "@jupyter-widgets/base",
          "model_name": "LayoutModel",
          "model_module_version": "1.2.0",
          "state": {
            "_model_module": "@jupyter-widgets/base",
            "_model_module_version": "1.2.0",
            "_model_name": "LayoutModel",
            "_view_count": null,
            "_view_module": "@jupyter-widgets/base",
            "_view_module_version": "1.2.0",
            "_view_name": "LayoutView",
            "align_content": null,
            "align_items": null,
            "align_self": null,
            "border": null,
            "bottom": null,
            "display": null,
            "flex": null,
            "flex_flow": null,
            "grid_area": null,
            "grid_auto_columns": null,
            "grid_auto_flow": null,
            "grid_auto_rows": null,
            "grid_column": null,
            "grid_gap": null,
            "grid_row": null,
            "grid_template_areas": null,
            "grid_template_columns": null,
            "grid_template_rows": null,
            "height": null,
            "justify_content": null,
            "justify_items": null,
            "left": null,
            "margin": null,
            "max_height": null,
            "max_width": null,
            "min_height": null,
            "min_width": null,
            "object_fit": null,
            "object_position": null,
            "order": null,
            "overflow": null,
            "overflow_x": null,
            "overflow_y": null,
            "padding": null,
            "right": null,
            "top": null,
            "visibility": null,
            "width": null
          }
        },
        "bb99a611944e4ad48edabf57a5fc7043": {
          "model_module": "@jupyter-widgets/base",
          "model_name": "LayoutModel",
          "model_module_version": "1.2.0",
          "state": {
            "_model_module": "@jupyter-widgets/base",
            "_model_module_version": "1.2.0",
            "_model_name": "LayoutModel",
            "_view_count": null,
            "_view_module": "@jupyter-widgets/base",
            "_view_module_version": "1.2.0",
            "_view_name": "LayoutView",
            "align_content": null,
            "align_items": null,
            "align_self": null,
            "border": null,
            "bottom": null,
            "display": null,
            "flex": null,
            "flex_flow": null,
            "grid_area": null,
            "grid_auto_columns": null,
            "grid_auto_flow": null,
            "grid_auto_rows": null,
            "grid_column": null,
            "grid_gap": null,
            "grid_row": null,
            "grid_template_areas": null,
            "grid_template_columns": null,
            "grid_template_rows": null,
            "height": null,
            "justify_content": null,
            "justify_items": null,
            "left": null,
            "margin": null,
            "max_height": null,
            "max_width": null,
            "min_height": null,
            "min_width": null,
            "object_fit": null,
            "object_position": null,
            "order": null,
            "overflow": null,
            "overflow_x": null,
            "overflow_y": null,
            "padding": null,
            "right": null,
            "top": null,
            "visibility": null,
            "width": null
          }
        },
        "4991378dc02a42e8be64b4ba6d74919d": {
          "model_module": "@jupyter-widgets/controls",
          "model_name": "DescriptionStyleModel",
          "model_module_version": "1.5.0",
          "state": {
            "_model_module": "@jupyter-widgets/controls",
            "_model_module_version": "1.5.0",
            "_model_name": "DescriptionStyleModel",
            "_view_count": null,
            "_view_module": "@jupyter-widgets/base",
            "_view_module_version": "1.2.0",
            "_view_name": "StyleView",
            "description_width": ""
          }
        },
        "7b635afba18c4ebaa63c3c42bd5f054f": {
          "model_module": "@jupyter-widgets/base",
          "model_name": "LayoutModel",
          "model_module_version": "1.2.0",
          "state": {
            "_model_module": "@jupyter-widgets/base",
            "_model_module_version": "1.2.0",
            "_model_name": "LayoutModel",
            "_view_count": null,
            "_view_module": "@jupyter-widgets/base",
            "_view_module_version": "1.2.0",
            "_view_name": "LayoutView",
            "align_content": null,
            "align_items": null,
            "align_self": null,
            "border": null,
            "bottom": null,
            "display": null,
            "flex": null,
            "flex_flow": null,
            "grid_area": null,
            "grid_auto_columns": null,
            "grid_auto_flow": null,
            "grid_auto_rows": null,
            "grid_column": null,
            "grid_gap": null,
            "grid_row": null,
            "grid_template_areas": null,
            "grid_template_columns": null,
            "grid_template_rows": null,
            "height": null,
            "justify_content": null,
            "justify_items": null,
            "left": null,
            "margin": null,
            "max_height": null,
            "max_width": null,
            "min_height": null,
            "min_width": null,
            "object_fit": null,
            "object_position": null,
            "order": null,
            "overflow": null,
            "overflow_x": null,
            "overflow_y": null,
            "padding": null,
            "right": null,
            "top": null,
            "visibility": null,
            "width": null
          }
        },
        "0a718f63eb6b4df7ac0094f19a93efb1": {
          "model_module": "@jupyter-widgets/controls",
          "model_name": "ProgressStyleModel",
          "model_module_version": "1.5.0",
          "state": {
            "_model_module": "@jupyter-widgets/controls",
            "_model_module_version": "1.5.0",
            "_model_name": "ProgressStyleModel",
            "_view_count": null,
            "_view_module": "@jupyter-widgets/base",
            "_view_module_version": "1.2.0",
            "_view_name": "StyleView",
            "bar_color": null,
            "description_width": ""
          }
        },
        "9be9584dc06c4213b6ac86c1f0fc3647": {
          "model_module": "@jupyter-widgets/base",
          "model_name": "LayoutModel",
          "model_module_version": "1.2.0",
          "state": {
            "_model_module": "@jupyter-widgets/base",
            "_model_module_version": "1.2.0",
            "_model_name": "LayoutModel",
            "_view_count": null,
            "_view_module": "@jupyter-widgets/base",
            "_view_module_version": "1.2.0",
            "_view_name": "LayoutView",
            "align_content": null,
            "align_items": null,
            "align_self": null,
            "border": null,
            "bottom": null,
            "display": null,
            "flex": null,
            "flex_flow": null,
            "grid_area": null,
            "grid_auto_columns": null,
            "grid_auto_flow": null,
            "grid_auto_rows": null,
            "grid_column": null,
            "grid_gap": null,
            "grid_row": null,
            "grid_template_areas": null,
            "grid_template_columns": null,
            "grid_template_rows": null,
            "height": null,
            "justify_content": null,
            "justify_items": null,
            "left": null,
            "margin": null,
            "max_height": null,
            "max_width": null,
            "min_height": null,
            "min_width": null,
            "object_fit": null,
            "object_position": null,
            "order": null,
            "overflow": null,
            "overflow_x": null,
            "overflow_y": null,
            "padding": null,
            "right": null,
            "top": null,
            "visibility": null,
            "width": null
          }
        },
        "e48944145ae74ea884f0b9547407ec8a": {
          "model_module": "@jupyter-widgets/controls",
          "model_name": "DescriptionStyleModel",
          "model_module_version": "1.5.0",
          "state": {
            "_model_module": "@jupyter-widgets/controls",
            "_model_module_version": "1.5.0",
            "_model_name": "DescriptionStyleModel",
            "_view_count": null,
            "_view_module": "@jupyter-widgets/base",
            "_view_module_version": "1.2.0",
            "_view_name": "StyleView",
            "description_width": ""
          }
        },
        "8b66b091dd4049c78ee3954189fc4b32": {
          "model_module": "@jupyter-widgets/controls",
          "model_name": "HBoxModel",
          "model_module_version": "1.5.0",
          "state": {
            "_dom_classes": [],
            "_model_module": "@jupyter-widgets/controls",
            "_model_module_version": "1.5.0",
            "_model_name": "HBoxModel",
            "_view_count": null,
            "_view_module": "@jupyter-widgets/controls",
            "_view_module_version": "1.5.0",
            "_view_name": "HBoxView",
            "box_style": "",
            "children": [
              "IPY_MODEL_cdc9db7c86bb40fbb37d82b8b0fbe600",
              "IPY_MODEL_85572a457b6840ed8ad5953b693056c4",
              "IPY_MODEL_2e2b5e2677e54148a0ca77ca376e8245"
            ],
            "layout": "IPY_MODEL_473c83d2a51a4637884f19e66c019fef"
          }
        },
        "cdc9db7c86bb40fbb37d82b8b0fbe600": {
          "model_module": "@jupyter-widgets/controls",
          "model_name": "HTMLModel",
          "model_module_version": "1.5.0",
          "state": {
            "_dom_classes": [],
            "_model_module": "@jupyter-widgets/controls",
            "_model_module_version": "1.5.0",
            "_model_name": "HTMLModel",
            "_view_count": null,
            "_view_module": "@jupyter-widgets/controls",
            "_view_module_version": "1.5.0",
            "_view_name": "HTMLView",
            "description": "",
            "description_tooltip": null,
            "layout": "IPY_MODEL_ef8c3b32327247cfa00bec0775a963c3",
            "placeholder": "​",
            "style": "IPY_MODEL_73b335d34ca7415f85245bd46524ed14",
            "value": "100%"
          }
        },
        "85572a457b6840ed8ad5953b693056c4": {
          "model_module": "@jupyter-widgets/controls",
          "model_name": "FloatProgressModel",
          "model_module_version": "1.5.0",
          "state": {
            "_dom_classes": [],
            "_model_module": "@jupyter-widgets/controls",
            "_model_module_version": "1.5.0",
            "_model_name": "FloatProgressModel",
            "_view_count": null,
            "_view_module": "@jupyter-widgets/controls",
            "_view_module_version": "1.5.0",
            "_view_name": "ProgressView",
            "bar_style": "success",
            "description": "",
            "description_tooltip": null,
            "layout": "IPY_MODEL_53ebd23da6c44bfa868ed7dd33bdf109",
            "max": 23708,
            "min": 0,
            "orientation": "horizontal",
            "style": "IPY_MODEL_851a1a495501436db36dff8b1add4971",
            "value": 23708
          }
        },
        "2e2b5e2677e54148a0ca77ca376e8245": {
          "model_module": "@jupyter-widgets/controls",
          "model_name": "HTMLModel",
          "model_module_version": "1.5.0",
          "state": {
            "_dom_classes": [],
            "_model_module": "@jupyter-widgets/controls",
            "_model_module_version": "1.5.0",
            "_model_name": "HTMLModel",
            "_view_count": null,
            "_view_module": "@jupyter-widgets/controls",
            "_view_module_version": "1.5.0",
            "_view_name": "HTMLView",
            "description": "",
            "description_tooltip": null,
            "layout": "IPY_MODEL_709973c3d76041e6ba91e297737d0012",
            "placeholder": "​",
            "style": "IPY_MODEL_76c33533722f4c049cf53d61b589e12f",
            "value": " 23708/23708 [00:00&lt;00:00, 237433.46it/s]"
          }
        },
        "473c83d2a51a4637884f19e66c019fef": {
          "model_module": "@jupyter-widgets/base",
          "model_name": "LayoutModel",
          "model_module_version": "1.2.0",
          "state": {
            "_model_module": "@jupyter-widgets/base",
            "_model_module_version": "1.2.0",
            "_model_name": "LayoutModel",
            "_view_count": null,
            "_view_module": "@jupyter-widgets/base",
            "_view_module_version": "1.2.0",
            "_view_name": "LayoutView",
            "align_content": null,
            "align_items": null,
            "align_self": null,
            "border": null,
            "bottom": null,
            "display": null,
            "flex": null,
            "flex_flow": null,
            "grid_area": null,
            "grid_auto_columns": null,
            "grid_auto_flow": null,
            "grid_auto_rows": null,
            "grid_column": null,
            "grid_gap": null,
            "grid_row": null,
            "grid_template_areas": null,
            "grid_template_columns": null,
            "grid_template_rows": null,
            "height": null,
            "justify_content": null,
            "justify_items": null,
            "left": null,
            "margin": null,
            "max_height": null,
            "max_width": null,
            "min_height": null,
            "min_width": null,
            "object_fit": null,
            "object_position": null,
            "order": null,
            "overflow": null,
            "overflow_x": null,
            "overflow_y": null,
            "padding": null,
            "right": null,
            "top": null,
            "visibility": null,
            "width": null
          }
        },
        "ef8c3b32327247cfa00bec0775a963c3": {
          "model_module": "@jupyter-widgets/base",
          "model_name": "LayoutModel",
          "model_module_version": "1.2.0",
          "state": {
            "_model_module": "@jupyter-widgets/base",
            "_model_module_version": "1.2.0",
            "_model_name": "LayoutModel",
            "_view_count": null,
            "_view_module": "@jupyter-widgets/base",
            "_view_module_version": "1.2.0",
            "_view_name": "LayoutView",
            "align_content": null,
            "align_items": null,
            "align_self": null,
            "border": null,
            "bottom": null,
            "display": null,
            "flex": null,
            "flex_flow": null,
            "grid_area": null,
            "grid_auto_columns": null,
            "grid_auto_flow": null,
            "grid_auto_rows": null,
            "grid_column": null,
            "grid_gap": null,
            "grid_row": null,
            "grid_template_areas": null,
            "grid_template_columns": null,
            "grid_template_rows": null,
            "height": null,
            "justify_content": null,
            "justify_items": null,
            "left": null,
            "margin": null,
            "max_height": null,
            "max_width": null,
            "min_height": null,
            "min_width": null,
            "object_fit": null,
            "object_position": null,
            "order": null,
            "overflow": null,
            "overflow_x": null,
            "overflow_y": null,
            "padding": null,
            "right": null,
            "top": null,
            "visibility": null,
            "width": null
          }
        },
        "73b335d34ca7415f85245bd46524ed14": {
          "model_module": "@jupyter-widgets/controls",
          "model_name": "DescriptionStyleModel",
          "model_module_version": "1.5.0",
          "state": {
            "_model_module": "@jupyter-widgets/controls",
            "_model_module_version": "1.5.0",
            "_model_name": "DescriptionStyleModel",
            "_view_count": null,
            "_view_module": "@jupyter-widgets/base",
            "_view_module_version": "1.2.0",
            "_view_name": "StyleView",
            "description_width": ""
          }
        },
        "53ebd23da6c44bfa868ed7dd33bdf109": {
          "model_module": "@jupyter-widgets/base",
          "model_name": "LayoutModel",
          "model_module_version": "1.2.0",
          "state": {
            "_model_module": "@jupyter-widgets/base",
            "_model_module_version": "1.2.0",
            "_model_name": "LayoutModel",
            "_view_count": null,
            "_view_module": "@jupyter-widgets/base",
            "_view_module_version": "1.2.0",
            "_view_name": "LayoutView",
            "align_content": null,
            "align_items": null,
            "align_self": null,
            "border": null,
            "bottom": null,
            "display": null,
            "flex": null,
            "flex_flow": null,
            "grid_area": null,
            "grid_auto_columns": null,
            "grid_auto_flow": null,
            "grid_auto_rows": null,
            "grid_column": null,
            "grid_gap": null,
            "grid_row": null,
            "grid_template_areas": null,
            "grid_template_columns": null,
            "grid_template_rows": null,
            "height": null,
            "justify_content": null,
            "justify_items": null,
            "left": null,
            "margin": null,
            "max_height": null,
            "max_width": null,
            "min_height": null,
            "min_width": null,
            "object_fit": null,
            "object_position": null,
            "order": null,
            "overflow": null,
            "overflow_x": null,
            "overflow_y": null,
            "padding": null,
            "right": null,
            "top": null,
            "visibility": null,
            "width": null
          }
        },
        "851a1a495501436db36dff8b1add4971": {
          "model_module": "@jupyter-widgets/controls",
          "model_name": "ProgressStyleModel",
          "model_module_version": "1.5.0",
          "state": {
            "_model_module": "@jupyter-widgets/controls",
            "_model_module_version": "1.5.0",
            "_model_name": "ProgressStyleModel",
            "_view_count": null,
            "_view_module": "@jupyter-widgets/base",
            "_view_module_version": "1.2.0",
            "_view_name": "StyleView",
            "bar_color": null,
            "description_width": ""
          }
        },
        "709973c3d76041e6ba91e297737d0012": {
          "model_module": "@jupyter-widgets/base",
          "model_name": "LayoutModel",
          "model_module_version": "1.2.0",
          "state": {
            "_model_module": "@jupyter-widgets/base",
            "_model_module_version": "1.2.0",
            "_model_name": "LayoutModel",
            "_view_count": null,
            "_view_module": "@jupyter-widgets/base",
            "_view_module_version": "1.2.0",
            "_view_name": "LayoutView",
            "align_content": null,
            "align_items": null,
            "align_self": null,
            "border": null,
            "bottom": null,
            "display": null,
            "flex": null,
            "flex_flow": null,
            "grid_area": null,
            "grid_auto_columns": null,
            "grid_auto_flow": null,
            "grid_auto_rows": null,
            "grid_column": null,
            "grid_gap": null,
            "grid_row": null,
            "grid_template_areas": null,
            "grid_template_columns": null,
            "grid_template_rows": null,
            "height": null,
            "justify_content": null,
            "justify_items": null,
            "left": null,
            "margin": null,
            "max_height": null,
            "max_width": null,
            "min_height": null,
            "min_width": null,
            "object_fit": null,
            "object_position": null,
            "order": null,
            "overflow": null,
            "overflow_x": null,
            "overflow_y": null,
            "padding": null,
            "right": null,
            "top": null,
            "visibility": null,
            "width": null
          }
        },
        "76c33533722f4c049cf53d61b589e12f": {
          "model_module": "@jupyter-widgets/controls",
          "model_name": "DescriptionStyleModel",
          "model_module_version": "1.5.0",
          "state": {
            "_model_module": "@jupyter-widgets/controls",
            "_model_module_version": "1.5.0",
            "_model_name": "DescriptionStyleModel",
            "_view_count": null,
            "_view_module": "@jupyter-widgets/base",
            "_view_module_version": "1.2.0",
            "_view_name": "StyleView",
            "description_width": ""
          }
        },
        "369c195d145e4158a93841451f5ccb52": {
          "model_module": "@jupyter-widgets/controls",
          "model_name": "HBoxModel",
          "model_module_version": "1.5.0",
          "state": {
            "_dom_classes": [],
            "_model_module": "@jupyter-widgets/controls",
            "_model_module_version": "1.5.0",
            "_model_name": "HBoxModel",
            "_view_count": null,
            "_view_module": "@jupyter-widgets/controls",
            "_view_module_version": "1.5.0",
            "_view_name": "HBoxView",
            "box_style": "",
            "children": [
              "IPY_MODEL_686af8cd34d24f78901c06937c1327bc",
              "IPY_MODEL_92ef06594d114e258a73aec830eed91b",
              "IPY_MODEL_08dceb8230f94974b7beceac73b6ae9f"
            ],
            "layout": "IPY_MODEL_01ea92a98f8d432680c91612cf2bd033"
          }
        },
        "686af8cd34d24f78901c06937c1327bc": {
          "model_module": "@jupyter-widgets/controls",
          "model_name": "HTMLModel",
          "model_module_version": "1.5.0",
          "state": {
            "_dom_classes": [],
            "_model_module": "@jupyter-widgets/controls",
            "_model_module_version": "1.5.0",
            "_model_name": "HTMLModel",
            "_view_count": null,
            "_view_module": "@jupyter-widgets/controls",
            "_view_module_version": "1.5.0",
            "_view_name": "HTMLView",
            "description": "",
            "description_tooltip": null,
            "layout": "IPY_MODEL_5f3b0bf77e524170af8a5a3b8e57eb93",
            "placeholder": "​",
            "style": "IPY_MODEL_9f93ddb175c84ddcaba499e3a10f8593",
            "value": "100%"
          }
        },
        "92ef06594d114e258a73aec830eed91b": {
          "model_module": "@jupyter-widgets/controls",
          "model_name": "FloatProgressModel",
          "model_module_version": "1.5.0",
          "state": {
            "_dom_classes": [],
            "_model_module": "@jupyter-widgets/controls",
            "_model_module_version": "1.5.0",
            "_model_name": "FloatProgressModel",
            "_view_count": null,
            "_view_module": "@jupyter-widgets/controls",
            "_view_module_version": "1.5.0",
            "_view_name": "ProgressView",
            "bar_style": "success",
            "description": "",
            "description_tooltip": null,
            "layout": "IPY_MODEL_ccc85b5f50bf4e39b40386e8203fb4fd",
            "max": 47410,
            "min": 0,
            "orientation": "horizontal",
            "style": "IPY_MODEL_06d08f1f8a234e65b586ef6d4d2dbff0",
            "value": 47410
          }
        },
        "08dceb8230f94974b7beceac73b6ae9f": {
          "model_module": "@jupyter-widgets/controls",
          "model_name": "HTMLModel",
          "model_module_version": "1.5.0",
          "state": {
            "_dom_classes": [],
            "_model_module": "@jupyter-widgets/controls",
            "_model_module_version": "1.5.0",
            "_model_name": "HTMLModel",
            "_view_count": null,
            "_view_module": "@jupyter-widgets/controls",
            "_view_module_version": "1.5.0",
            "_view_name": "HTMLView",
            "description": "",
            "description_tooltip": null,
            "layout": "IPY_MODEL_1ea81590594b405ea69cbb5aef160438",
            "placeholder": "​",
            "style": "IPY_MODEL_12da6fcc024244e4a42d24b7134a6683",
            "value": " 47410/47410 [23:07&lt;00:00, 37.55it/s]"
          }
        },
        "01ea92a98f8d432680c91612cf2bd033": {
          "model_module": "@jupyter-widgets/base",
          "model_name": "LayoutModel",
          "model_module_version": "1.2.0",
          "state": {
            "_model_module": "@jupyter-widgets/base",
            "_model_module_version": "1.2.0",
            "_model_name": "LayoutModel",
            "_view_count": null,
            "_view_module": "@jupyter-widgets/base",
            "_view_module_version": "1.2.0",
            "_view_name": "LayoutView",
            "align_content": null,
            "align_items": null,
            "align_self": null,
            "border": null,
            "bottom": null,
            "display": null,
            "flex": null,
            "flex_flow": null,
            "grid_area": null,
            "grid_auto_columns": null,
            "grid_auto_flow": null,
            "grid_auto_rows": null,
            "grid_column": null,
            "grid_gap": null,
            "grid_row": null,
            "grid_template_areas": null,
            "grid_template_columns": null,
            "grid_template_rows": null,
            "height": null,
            "justify_content": null,
            "justify_items": null,
            "left": null,
            "margin": null,
            "max_height": null,
            "max_width": null,
            "min_height": null,
            "min_width": null,
            "object_fit": null,
            "object_position": null,
            "order": null,
            "overflow": null,
            "overflow_x": null,
            "overflow_y": null,
            "padding": null,
            "right": null,
            "top": null,
            "visibility": null,
            "width": null
          }
        },
        "5f3b0bf77e524170af8a5a3b8e57eb93": {
          "model_module": "@jupyter-widgets/base",
          "model_name": "LayoutModel",
          "model_module_version": "1.2.0",
          "state": {
            "_model_module": "@jupyter-widgets/base",
            "_model_module_version": "1.2.0",
            "_model_name": "LayoutModel",
            "_view_count": null,
            "_view_module": "@jupyter-widgets/base",
            "_view_module_version": "1.2.0",
            "_view_name": "LayoutView",
            "align_content": null,
            "align_items": null,
            "align_self": null,
            "border": null,
            "bottom": null,
            "display": null,
            "flex": null,
            "flex_flow": null,
            "grid_area": null,
            "grid_auto_columns": null,
            "grid_auto_flow": null,
            "grid_auto_rows": null,
            "grid_column": null,
            "grid_gap": null,
            "grid_row": null,
            "grid_template_areas": null,
            "grid_template_columns": null,
            "grid_template_rows": null,
            "height": null,
            "justify_content": null,
            "justify_items": null,
            "left": null,
            "margin": null,
            "max_height": null,
            "max_width": null,
            "min_height": null,
            "min_width": null,
            "object_fit": null,
            "object_position": null,
            "order": null,
            "overflow": null,
            "overflow_x": null,
            "overflow_y": null,
            "padding": null,
            "right": null,
            "top": null,
            "visibility": null,
            "width": null
          }
        },
        "9f93ddb175c84ddcaba499e3a10f8593": {
          "model_module": "@jupyter-widgets/controls",
          "model_name": "DescriptionStyleModel",
          "model_module_version": "1.5.0",
          "state": {
            "_model_module": "@jupyter-widgets/controls",
            "_model_module_version": "1.5.0",
            "_model_name": "DescriptionStyleModel",
            "_view_count": null,
            "_view_module": "@jupyter-widgets/base",
            "_view_module_version": "1.2.0",
            "_view_name": "StyleView",
            "description_width": ""
          }
        },
        "ccc85b5f50bf4e39b40386e8203fb4fd": {
          "model_module": "@jupyter-widgets/base",
          "model_name": "LayoutModel",
          "model_module_version": "1.2.0",
          "state": {
            "_model_module": "@jupyter-widgets/base",
            "_model_module_version": "1.2.0",
            "_model_name": "LayoutModel",
            "_view_count": null,
            "_view_module": "@jupyter-widgets/base",
            "_view_module_version": "1.2.0",
            "_view_name": "LayoutView",
            "align_content": null,
            "align_items": null,
            "align_self": null,
            "border": null,
            "bottom": null,
            "display": null,
            "flex": null,
            "flex_flow": null,
            "grid_area": null,
            "grid_auto_columns": null,
            "grid_auto_flow": null,
            "grid_auto_rows": null,
            "grid_column": null,
            "grid_gap": null,
            "grid_row": null,
            "grid_template_areas": null,
            "grid_template_columns": null,
            "grid_template_rows": null,
            "height": null,
            "justify_content": null,
            "justify_items": null,
            "left": null,
            "margin": null,
            "max_height": null,
            "max_width": null,
            "min_height": null,
            "min_width": null,
            "object_fit": null,
            "object_position": null,
            "order": null,
            "overflow": null,
            "overflow_x": null,
            "overflow_y": null,
            "padding": null,
            "right": null,
            "top": null,
            "visibility": null,
            "width": null
          }
        },
        "06d08f1f8a234e65b586ef6d4d2dbff0": {
          "model_module": "@jupyter-widgets/controls",
          "model_name": "ProgressStyleModel",
          "model_module_version": "1.5.0",
          "state": {
            "_model_module": "@jupyter-widgets/controls",
            "_model_module_version": "1.5.0",
            "_model_name": "ProgressStyleModel",
            "_view_count": null,
            "_view_module": "@jupyter-widgets/base",
            "_view_module_version": "1.2.0",
            "_view_name": "StyleView",
            "bar_color": null,
            "description_width": ""
          }
        },
        "1ea81590594b405ea69cbb5aef160438": {
          "model_module": "@jupyter-widgets/base",
          "model_name": "LayoutModel",
          "model_module_version": "1.2.0",
          "state": {
            "_model_module": "@jupyter-widgets/base",
            "_model_module_version": "1.2.0",
            "_model_name": "LayoutModel",
            "_view_count": null,
            "_view_module": "@jupyter-widgets/base",
            "_view_module_version": "1.2.0",
            "_view_name": "LayoutView",
            "align_content": null,
            "align_items": null,
            "align_self": null,
            "border": null,
            "bottom": null,
            "display": null,
            "flex": null,
            "flex_flow": null,
            "grid_area": null,
            "grid_auto_columns": null,
            "grid_auto_flow": null,
            "grid_auto_rows": null,
            "grid_column": null,
            "grid_gap": null,
            "grid_row": null,
            "grid_template_areas": null,
            "grid_template_columns": null,
            "grid_template_rows": null,
            "height": null,
            "justify_content": null,
            "justify_items": null,
            "left": null,
            "margin": null,
            "max_height": null,
            "max_width": null,
            "min_height": null,
            "min_width": null,
            "object_fit": null,
            "object_position": null,
            "order": null,
            "overflow": null,
            "overflow_x": null,
            "overflow_y": null,
            "padding": null,
            "right": null,
            "top": null,
            "visibility": null,
            "width": null
          }
        },
        "12da6fcc024244e4a42d24b7134a6683": {
          "model_module": "@jupyter-widgets/controls",
          "model_name": "DescriptionStyleModel",
          "model_module_version": "1.5.0",
          "state": {
            "_model_module": "@jupyter-widgets/controls",
            "_model_module_version": "1.5.0",
            "_model_name": "DescriptionStyleModel",
            "_view_count": null,
            "_view_module": "@jupyter-widgets/base",
            "_view_module_version": "1.2.0",
            "_view_name": "StyleView",
            "description_width": ""
          }
        }
      }
    }
  },
  "nbformat": 4,
  "nbformat_minor": 0
}